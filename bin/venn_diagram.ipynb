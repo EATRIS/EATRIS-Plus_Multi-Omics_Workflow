{
 "cells": [
  {
   "cell_type": "markdown",
   "id": "72d189bb",
   "metadata": {},
   "source": [
    "# SNF Venn Diagrams"
   ]
  },
  {
   "cell_type": "markdown",
   "id": "2fee9c54",
   "metadata": {},
   "source": [
    "Authors: Casper de Visser (casper.devisser@radboudumc.nl)"
   ]
  },
  {
   "cell_type": "code",
   "execution_count": null,
   "id": "4f90e794",
   "metadata": {},
   "outputs": [],
   "source": [
    "import sys\n",
    "import os\n",
    "import numpy as np\n",
    "import pandas as pd\n",
    "import matplotlib.pylab as plt\n",
    "import seaborn as sns"
   ]
  },
  {
   "cell_type": "markdown",
   "id": "7c49a00a",
   "metadata": {},
   "source": [
    "# Get labels dataframes file paths"
   ]
  },
  {
   "cell_type": "code",
   "execution_count": null,
   "id": "711f5c84",
   "metadata": {},
   "outputs": [],
   "source": [
    "print(labels_paths)"
   ]
  }
 ],
 "metadata": {
  "kernelspec": {
   "display_name": "Python 3 (ipykernel)",
   "language": "python",
   "name": "python3"
  },
  "language_info": {
   "codemirror_mode": {
    "name": "ipython",
    "version": 3
   },
   "file_extension": ".py",
   "mimetype": "text/x-python",
   "name": "python",
   "nbconvert_exporter": "python",
   "pygments_lexer": "ipython3",
   "version": "3.9.5"
  }
 },
 "nbformat": 4,
 "nbformat_minor": 5
}
