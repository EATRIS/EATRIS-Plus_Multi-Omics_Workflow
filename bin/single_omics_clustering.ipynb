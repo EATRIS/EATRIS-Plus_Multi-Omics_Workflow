{
 "cells": [
  {
   "cell_type": "markdown",
   "id": "72d189bb",
   "metadata": {},
   "source": [
    "# Cluster single -omics"
   ]
  },
  {
   "cell_type": "markdown",
   "id": "2fee9c54",
   "metadata": {},
   "source": [
    "Authors: Casper de Visser (casper.devisser@radboudumc.nl)"
   ]
  },
  {
   "cell_type": "code",
   "execution_count": null,
   "id": "4f90e794",
   "metadata": {},
   "outputs": [],
   "source": [
    "import sys\n",
    "import numpy as np\n",
    "import pandas as pd\n",
    "import matplotlib.pylab as plt\n",
    "from sklearn.cluster import spectral_clustering\n",
    "from sklearn.metrics import v_measure_score\n",
    "import snf\n",
    "from snf import metrics\n",
    "import seaborn as sns\n",
    "import scipy.stats as stats\n",
    "import statsmodels.api as sm\n",
    "import statsmodels\n",
    "import muon\n",
    "import itertools"
   ]
  },
  {
   "cell_type": "markdown",
   "id": "d1b1bc9c",
   "metadata": {},
   "source": [
    "## Read in MuData object"
   ]
  },
  {
   "cell_type": "code",
   "execution_count": null,
   "id": "1746e776",
   "metadata": {},
   "outputs": [],
   "source": [
    "mdata = muon.read(mudata_object)"
   ]
  },
  {
   "cell_type": "markdown",
   "id": "5d608d32",
   "metadata": {},
   "source": [
    "## Affinity networks for single -omics"
   ]
  },
  {
   "cell_type": "code",
   "execution_count": null,
   "id": "375deb61",
   "metadata": {},
   "outputs": [],
   "source": [
    "# Functions\n",
    "\n",
    "\n",
    "def sort_fused_network(fused_network, labels_array):\n",
    "    # Make Pandas Dataframes\n",
    "    df = pd.DataFrame(fused_network)\n",
    "    df_labels = pd.DataFrame(labels_array)\n",
    "    df_labels.columns = [\"Label\"]\n",
    "    # sort label df\n",
    "    df_labels = df_labels.sort_values(by=['Label'])\n",
    "    # sort fused network df with sorted labels\n",
    "    df = df.reindex(df_labels.index)\n",
    "    df = df[df_labels.index]\n",
    "    array = df.to_numpy()\n",
    "    np.fill_diagonal(array, 0)\n",
    "    return(array)\n",
    "\n",
    "def make_heatmap(array, n_clusters, data_types):\n",
    "    # Create heatmap\n",
    "    heatmap = plt.imshow(array, cmap='hot', interpolation='nearest')\n",
    "\n",
    "    # Set axis names, title etc.\n",
    "    plt.xlabel('samples')\n",
    "    plt.ylabel('samples') \n",
    "    cbar = plt.colorbar(heatmap)\n",
    "    cbar.ax.set_ylabel('sample correlations', loc=\"top\")\n",
    "    plt.suptitle(str(str(data_types) + '\\nNumber of clusters: {:.2f}'.format(round(n_clusters)))) \n",
    "    plt.show()\n",
    "\n",
    "    return(plt)  "
   ]
  },
  {
   "cell_type": "code",
   "execution_count": null,
   "id": "30a69f33",
   "metadata": {},
   "outputs": [],
   "source": [
    "for i in mdata.mod.keys():\n",
    "\n",
    "    # Make affinity matrix\n",
    "    single_omics_affinity = snf.make_affinity(mdata[i].X, metric = 'euclidean', K=6, mu=0.5)\n",
    "\n",
    "    # Determine optimal number of clusters (estimated via an eigengap approach)\n",
    "    best, second = snf.get_n_clusters(single_omics_affinity)\n",
    "\n",
    "    #Perform spectral clustering on the fused network\n",
    "    labels = spectral_clustering(single_omics_affinity, n_clusters=best)\n",
    "    \n",
    "    #Sort Fused networks according to labels found by spectral clustering\n",
    "    sorted_fused_network_best = sort_fused_network(single_omics_affinity, labels)\n",
    "\n",
    "    make_heatmap(sorted_fused_network_best,  best, str(i))"
   ]
  }
 ],
 "metadata": {
  "kernelspec": {
   "display_name": "Python 3 (ipykernel)",
   "language": "python",
   "name": "python3"
  },
  "language_info": {
   "codemirror_mode": {
    "name": "ipython",
    "version": 3
   },
   "file_extension": ".py",
   "mimetype": "text/x-python",
   "name": "python",
   "nbconvert_exporter": "python",
   "pygments_lexer": "ipython3",
   "version": "3.9.5"
  }
 },
 "nbformat": 4,
 "nbformat_minor": 5
}
