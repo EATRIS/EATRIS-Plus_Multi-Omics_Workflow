{
 "cells": [
  {
   "cell_type": "markdown",
   "id": "72d189bb",
   "metadata": {},
   "source": [
    "# Similarity Network Fusion  + downstream analysis"
   ]
  },
  {
   "cell_type": "markdown",
   "id": "2fee9c54",
   "metadata": {},
   "source": [
    "Authors: Casper de Visser (casper.devisser@radboudumc.nl)"
   ]
  },
  {
   "cell_type": "markdown",
   "id": "4c372a6c",
   "metadata": {},
   "source": [
    "## Introduction"
   ]
  },
  {
   "cell_type": "markdown",
   "id": "0c247905",
   "metadata": {},
   "source": [
    "This notebook contains the downstream analysis of the fused sample similarity matrix that was constructed with SNF  (Wang 2014). Spectral clustering is performed on these sample similarities and these clusters are compared with the behavioral data and phenotypic covariates."
   ]
  },
  {
   "cell_type": "code",
   "execution_count": 1,
   "id": "4f90e794",
   "metadata": {},
   "outputs": [
    {
     "ename": "ModuleNotFoundError",
     "evalue": "No module named 'snf'",
     "output_type": "error",
     "traceback": [
      "\u001b[0;31m---------------------------------------------------------------------------\u001b[0m",
      "\u001b[0;31mModuleNotFoundError\u001b[0m                       Traceback (most recent call last)",
      "\u001b[0;32m<ipython-input-1-6a64d8f7f1f6>\u001b[0m in \u001b[0;36m<module>\u001b[0;34m\u001b[0m\n\u001b[1;32m      6\u001b[0m \u001b[0;32mfrom\u001b[0m \u001b[0msklearn\u001b[0m\u001b[0;34m.\u001b[0m\u001b[0mcluster\u001b[0m \u001b[0;32mimport\u001b[0m \u001b[0mspectral_clustering\u001b[0m\u001b[0;34m\u001b[0m\u001b[0;34m\u001b[0m\u001b[0m\n\u001b[1;32m      7\u001b[0m \u001b[0;32mfrom\u001b[0m \u001b[0msklearn\u001b[0m\u001b[0;34m.\u001b[0m\u001b[0mmetrics\u001b[0m \u001b[0;32mimport\u001b[0m \u001b[0mv_measure_score\u001b[0m\u001b[0;34m\u001b[0m\u001b[0;34m\u001b[0m\u001b[0m\n\u001b[0;32m----> 8\u001b[0;31m \u001b[0;32mimport\u001b[0m \u001b[0msnf\u001b[0m\u001b[0;34m\u001b[0m\u001b[0;34m\u001b[0m\u001b[0m\n\u001b[0m\u001b[1;32m      9\u001b[0m \u001b[0;32mfrom\u001b[0m \u001b[0msnf\u001b[0m \u001b[0;32mimport\u001b[0m \u001b[0mmetrics\u001b[0m\u001b[0;34m\u001b[0m\u001b[0;34m\u001b[0m\u001b[0m\n\u001b[1;32m     10\u001b[0m \u001b[0;32mimport\u001b[0m \u001b[0mseaborn\u001b[0m \u001b[0;32mas\u001b[0m \u001b[0msns\u001b[0m\u001b[0;34m\u001b[0m\u001b[0;34m\u001b[0m\u001b[0m\n",
      "\u001b[0;31mModuleNotFoundError\u001b[0m: No module named 'snf'"
     ]
    }
   ],
   "source": [
    "import sys\n",
    "import os\n",
    "import numpy as np\n",
    "import pandas as pd\n",
    "import matplotlib.pylab as plt\n",
    "from sklearn.cluster import spectral_clustering\n",
    "from sklearn.metrics import v_measure_score\n",
    "import snf\n",
    "from snf import metrics\n",
    "import seaborn as sns\n",
    "import scipy.stats as stats\n",
    "import statsmodels.api as sm\n",
    "import statsmodels\n",
    "import muon\n",
    "import itertools"
   ]
  },
  {
   "cell_type": "markdown",
   "id": "d1b1bc9c",
   "metadata": {},
   "source": [
    "## Read in MuData object"
   ]
  },
  {
   "cell_type": "code",
   "execution_count": null,
   "id": "1746e776",
   "metadata": {},
   "outputs": [],
   "source": [
    "mdata = muon.read(mudata_object)"
   ]
  },
  {
   "cell_type": "markdown",
   "id": "7c49a00a",
   "metadata": {},
   "source": [
    "# Load fused network"
   ]
  },
  {
   "cell_type": "code",
   "execution_count": 2,
   "id": "711f5c84",
   "metadata": {},
   "outputs": [
    {
     "ename": "NameError",
     "evalue": "name 'snf_df_path' is not defined",
     "output_type": "error",
     "traceback": [
      "\u001b[0;31m---------------------------------------------------------------------------\u001b[0m",
      "\u001b[0;31mNameError\u001b[0m                                 Traceback (most recent call last)",
      "\u001b[0;32m<ipython-input-2-2dc5e96f25c2>\u001b[0m in \u001b[0;36m<module>\u001b[0;34m\u001b[0m\n\u001b[1;32m      1\u001b[0m \u001b[0;31m# Load Pandas DataFrame of fused network\u001b[0m\u001b[0;34m\u001b[0m\u001b[0;34m\u001b[0m\u001b[0;34m\u001b[0m\u001b[0m\n\u001b[0;32m----> 2\u001b[0;31m \u001b[0mfused_df\u001b[0m \u001b[0;34m=\u001b[0m \u001b[0mpd\u001b[0m\u001b[0;34m.\u001b[0m\u001b[0mread_csv\u001b[0m\u001b[0;34m(\u001b[0m\u001b[0msnf_df_path\u001b[0m\u001b[0;34m,\u001b[0m  \u001b[0mheader\u001b[0m\u001b[0;34m=\u001b[0m\u001b[0;32mNone\u001b[0m\u001b[0;34m)\u001b[0m\u001b[0;34m\u001b[0m\u001b[0;34m\u001b[0m\u001b[0m\n\u001b[0m\u001b[1;32m      3\u001b[0m \u001b[0;34m\u001b[0m\u001b[0m\n\u001b[1;32m      4\u001b[0m \u001b[0;31m# Convert to numpy array\u001b[0m\u001b[0;34m\u001b[0m\u001b[0;34m\u001b[0m\u001b[0;34m\u001b[0m\u001b[0m\n\u001b[1;32m      5\u001b[0m \u001b[0mfused_network\u001b[0m \u001b[0;34m=\u001b[0m \u001b[0mfused_df\u001b[0m\u001b[0;34m.\u001b[0m\u001b[0mto_numpy\u001b[0m\u001b[0;34m(\u001b[0m\u001b[0;34m)\u001b[0m\u001b[0;34m\u001b[0m\u001b[0;34m\u001b[0m\u001b[0m\n",
      "\u001b[0;31mNameError\u001b[0m: name 'snf_df_path' is not defined"
     ]
    }
   ],
   "source": [
    "# Load Pandas DataFrame of fused network\n",
    "fused_df = pd.read_csv(snf_df_path,  header=None)\n",
    "\n",
    "# Convert to numpy array\n",
    "fused_network = fused_df.to_numpy()\n",
    "\n",
    "# Retrieve data type names from input file name\n",
    "data_type_names = str(snf_df_path)[2:-20]\n",
    "data_type_names_list = list(data_type_names.split(\"', '\"))\n",
    "\n",
    "## Rewrite the lists of omics names into abbreviations, to make DF values more readable\n",
    "\n",
    "temp_list = []\n",
    "\n",
    "for name in data_type_names_list:\n",
    "    if name == 'acylcarnitines':\n",
    "        temp_list.append('AC')\n",
    "    if name == 'aminoacids':\n",
    "        temp_list.append('AA')\n",
    "    if name == 'fattyacids':\n",
    "        temp_list.append('FA')\n",
    "    if name == 'proteins':\n",
    "        temp_list.append('PR')\n",
    "    if name == 'lipidomics-neg':\n",
    "        temp_list.append('LN')\n",
    "    if name == 'lipidomics-pos':\n",
    "        temp_list.append('LP')\n",
    "    if name == 'mRNA':\n",
    "        temp_list.append('MR')\n",
    "    if name == 'miRNA-mature':\n",
    "        temp_list.append('MI')\n",
    "    if name == 'EM-seq':\n",
    "        temp_list.append('EM')\n",
    "    if name == 'miRNA-qRT-PCR':\n",
    "        temp_list.append('RT')"
   ]
  },
  {
   "cell_type": "markdown",
   "id": "b8115e59",
   "metadata": {},
   "source": [
    "# Get correct samples subset "
   ]
  },
  {
   "cell_type": "code",
   "execution_count": null,
   "id": "e63b0bfc",
   "metadata": {},
   "outputs": [],
   "source": [
    "# Find common samples in omics combination\n",
    "obs_list = []\n",
    "for i in data_type_names_list:\n",
    "    obs_list.append(list(mdata[i].obs.index))\n",
    "\n",
    "common_obs = list(set.intersection(*map(set, obs_list)))\n",
    "\n",
    "# Subset samples present in omics combination\n",
    "muon.pp.filter_obs(mdata, common_obs)"
   ]
  },
  {
   "cell_type": "markdown",
   "id": "6c15f2c1",
   "metadata": {},
   "source": [
    "# Heatmap showing fused network"
   ]
  },
  {
   "cell_type": "code",
   "execution_count": null,
   "id": "e1c4abf5",
   "metadata": {},
   "outputs": [],
   "source": [
    "# Functions\n",
    "\n",
    "\n",
    "def sort_fused_network(fused_network, labels_array):\n",
    "    # Make Pandas Dataframes\n",
    "    df = pd.DataFrame(fused_network)\n",
    "    df_labels = pd.DataFrame(labels_array)\n",
    "    df_labels.columns = [\"Label\"]\n",
    "    # sort label df\n",
    "    df_labels = df_labels.sort_values(by=['Label'])\n",
    "    # sort fused network df with sorted labels\n",
    "    df = df.reindex(df_labels.index)\n",
    "    df = df[df_labels.index]\n",
    "    array = df.to_numpy()\n",
    "    np.fill_diagonal(array, 0)\n",
    "    return(array)\n",
    "\n",
    "def make_heatmap(array, n_clusters, data_types):\n",
    "    # Create heatmap\n",
    "    heatmap = plt.imshow(array, cmap='hot', interpolation='nearest')\n",
    "\n",
    "    # Set axis names, title etc.\n",
    "    plt.xlabel('samples')\n",
    "    plt.ylabel('samples') \n",
    "    cbar = plt.colorbar(heatmap)\n",
    "    cbar.ax.set_ylabel('sample correlations', loc=\"top\")\n",
    "    plt.suptitle(str('Fused network: ' +  str(data_types) + '\\nNumber of clusters: {:.2f}'.format(round(float(n_clusters))))) \n",
    "    plt.show()\n",
    "\n",
    "    return(plt)  "
   ]
  },
  {
   "cell_type": "code",
   "execution_count": null,
   "id": "b815414c",
   "metadata": {},
   "outputs": [],
   "source": [
    "# determine optimal number of clusters (estimated via an eigengap approach)\n",
    "best, second = snf.get_n_clusters(fused_network)\n",
    "\n",
    "# Perform spectral clustering on the fused network\n",
    "labels = spectral_clustering(fused_network, n_clusters=best)\n",
    "labels_second = spectral_clustering(fused_network, n_clusters=second)\n",
    "    \n",
    "# Sort Fused networks according to labels found by spectral clustering\n",
    "sorted_fused_network_best = sort_fused_network(fused_network, labels)\n",
    "sorted_fused_network_second = sort_fused_network(fused_network, labels_second)\n",
    "    \n",
    "from IPython.display import display, Markdown\n",
    "display(Markdown(\"## Fused network\" ))\n",
    "\n",
    "make_heatmap(sorted_fused_network_best,  best, data_type_names)\n",
    "make_heatmap(sorted_fused_network_second,  second, data_type_names)"
   ]
  },
  {
   "cell_type": "markdown",
   "id": "15838441",
   "metadata": {},
   "source": [
    "## Add SNF labels to phenotype data (.obs)"
   ]
  },
  {
   "cell_type": "code",
   "execution_count": null,
   "id": "b31abe48",
   "metadata": {},
   "outputs": [],
   "source": [
    "# Spectral clustering\n",
    "\n",
    "# determine optimal number of clusters (estimated via an eigengap approach)\n",
    "best, second = snf.get_n_clusters(fused_network)\n",
    "\n",
    "# Perform spectral clustering on the fused network\n",
    "labels = spectral_clustering(fused_network, n_clusters=best)\n",
    "labels_second = spectral_clustering(fused_network, n_clusters=second)\n",
    "\n",
    "# Add cluster labels from SNF\n",
    "\n",
    "SNF_label_best_colname =  \"SNF_label_\" + str(best)\n",
    "SNF_label_second_colname =  \"SNF_label_\" + str(second)\n",
    "\n",
    "mdata.obs[SNF_label_best_colname] = labels\n",
    "mdata.obs[SNF_label_second_colname] = labels_second\n",
    "\n",
    "for i in mdata.obs.index:\n",
    "    mdata.obs.at[i, SNF_label_best_colname] =  \"SNF_\"+ str(mdata.obs.at[i, SNF_label_best_colname])\n",
    "    mdata.obs.at[i, SNF_label_second_colname] =  \"SNF_\"+ str(mdata.obs.at[i, SNF_label_second_colname])"
   ]
  },
  {
   "cell_type": "markdown",
   "id": "f39656a7",
   "metadata": {},
   "source": [
    "### Export SNF labels to csv"
   ]
  },
  {
   "cell_type": "code",
   "execution_count": null,
   "id": "7d9b188d",
   "metadata": {},
   "outputs": [],
   "source": [
    "os.mkdir('labels')\n",
    "\n",
    "new = mdata.obs.loc[:,[SNF_label_best_colname, SNF_label_second_colname]]\n",
    "\n",
    "\n",
    "\n",
    "new.to_csv(str('labels/SNF_labels_' + str(temp_list) + '.csv'))\n",
    "\n",
    "print(temp_list)"
   ]
  },
  {
   "cell_type": "markdown",
   "id": "f5c69c50",
   "metadata": {},
   "source": [
    "## Compare SNF clusters to categorical phenotype data (Mosaic plots)"
   ]
  },
  {
   "cell_type": "code",
   "execution_count": null,
   "id": "d98f9f0d",
   "metadata": {},
   "outputs": [],
   "source": [
    "# Function to generate the mosaic plot\n",
    "\n",
    "from statsmodels.graphics.mosaicplot import mosaic\n",
    "\n",
    "colors = ['#e69F00', '#56b4e9', '#009e73', '#f0e442', '#0072b2', '#d55e00', '#cc79a7', '#000000']\n",
    "\n",
    "def make_mosaic(df, col1, col2, mosaic_title='Pheno variable'):\n",
    "    \n",
    "    #Sort df on pheno value that is plotted against the clusters\n",
    "    df = df.sort_values(by=[col1])\n",
    "    \n",
    "    \n",
    "    #Adjust plot size to value counts\n",
    "    number_of_pheno_values = len(df[col1].value_counts())\n",
    "    number_of_clusters = len(df[col2].value_counts())\n",
    "    \n",
    "    \n",
    "    if number_of_pheno_values < 2:\n",
    "        print('No differences are observed in this column among the subjects')\n",
    "    \n",
    "    else:\n",
    "    \n",
    "        if number_of_pheno_values < 4:\n",
    "            number_of_pheno_values = 4\n",
    "    \n",
    "        # Figure size\n",
    "        fig, ax = plt.subplots(figsize=(number_of_pheno_values*2,number_of_clusters*1.5))      \n",
    "        \n",
    "        \n",
    "        # Figure color palette\n",
    "        props= {}\n",
    "        e = 0\n",
    "        a =  0.6 - number_of_clusters/10 \n",
    "        for i in df[col1].unique():\n",
    "            for j in df[col2].unique():\n",
    "                props[(str(i), str(j))] = {'color': colors[e], 'alpha' : a}\n",
    "                a += (0.6 - number_of_clusters/10)\n",
    "            e += 1\n",
    "            a = (0.6 - number_of_clusters/10)\n",
    "        \n",
    "        # Figure lables (percentages)\n",
    "        labels_dict={}\n",
    "        for i in df[col1].unique():\n",
    "            for j in df[col2].unique():\n",
    "                samples = len(df[(df[col1] == i) & (df[col2] == j)])\n",
    "                percentage = round(samples/len(df.index) * 100, 2)\n",
    "                labels_dict[(str(i), str(j))] = str(i) + '\\n' + 'SNF '+ str(j)[-1] + '\\n' + str(percentage) + '%'\n",
    "\n",
    "        # Generate plot\n",
    "        mosaic(df, \n",
    "               [col1, col2], \n",
    "               ax=ax, \n",
    "               axes_label=False,\n",
    "               gap=0.06,\n",
    "               properties = props,\n",
    "               labelizer = lambda k: labels_dict[k])\n",
    "        plt.xlabel(col1, fontsize=20)\n",
    "        plt.ylabel('SNF cluster', fontsize=15) # This is now hardcoded\n",
    "        plt.title(mosaic_title, fontsize=15)\n",
    "        plt.show()\n",
    "        plt.close()\n",
    "\n",
    "        return(plt)"
   ]
  },
  {
   "cell_type": "code",
   "execution_count": null,
   "id": "c9321755",
   "metadata": {},
   "outputs": [],
   "source": [
    "make_mosaic(mdata.obs, 'BMI.group', SNF_label_best_colname)"
   ]
  },
  {
   "cell_type": "code",
   "execution_count": null,
   "id": "80efd062",
   "metadata": {},
   "outputs": [],
   "source": [
    "make_mosaic(mdata.obs, 'BMI.group', SNF_label_second_colname)"
   ]
  },
  {
   "cell_type": "code",
   "execution_count": null,
   "id": "70f14175",
   "metadata": {},
   "outputs": [],
   "source": [
    "make_mosaic(mdata.obs, 'Age.group', SNF_label_best_colname)"
   ]
  },
  {
   "cell_type": "code",
   "execution_count": null,
   "id": "c556b8b4",
   "metadata": {},
   "outputs": [],
   "source": [
    "make_mosaic(mdata.obs, 'Age.group', SNF_label_second_colname)"
   ]
  },
  {
   "cell_type": "code",
   "execution_count": null,
   "id": "4274590c",
   "metadata": {},
   "outputs": [],
   "source": [
    "make_mosaic(mdata.obs, 'Sex', SNF_label_best_colname)"
   ]
  },
  {
   "cell_type": "code",
   "execution_count": null,
   "id": "2d4f0a5b",
   "metadata": {
    "scrolled": true
   },
   "outputs": [],
   "source": [
    "make_mosaic(mdata.obs, 'Sex', SNF_label_second_colname)"
   ]
  },
  {
   "cell_type": "code",
   "execution_count": null,
   "id": "fd8c8c0c",
   "metadata": {},
   "outputs": [],
   "source": [
    "# Remove categorical with 0 values  TODO: do for all phenotype columns\n",
    "\n",
    "mdata.obs['Smoking.Status'] = mdata.obs['Smoking.Status'] .cat.remove_unused_categories()\n",
    "\n",
    "make_mosaic(mdata.obs, 'Smoking.Status', SNF_label_best_colname)"
   ]
  },
  {
   "cell_type": "code",
   "execution_count": null,
   "id": "0a5c9497",
   "metadata": {},
   "outputs": [],
   "source": [
    "make_mosaic(mdata.obs, 'Smoking.Status', SNF_label_second_colname)"
   ]
  },
  {
   "cell_type": "code",
   "execution_count": null,
   "id": "a3541b74",
   "metadata": {},
   "outputs": [],
   "source": [
    "# Chi square testing on contingency tables"
   ]
  },
  {
   "cell_type": "code",
   "execution_count": null,
   "id": "5d6ba4f3",
   "metadata": {},
   "outputs": [],
   "source": [
    "import scipy.stats\n",
    "from scipy.stats import chi2\n",
    "\n",
    "categorical_vars = ['Age.group', 'Sex', 'BMI.group', 'Smoking.Status']\n",
    "\n",
    "chisquare_best_list = []\n",
    "\n",
    "for i in categorical_vars:\n",
    "    row = []\n",
    "    ct_table = pd.crosstab(mdata.obs[i], mdata.obs[SNF_label_best_colname])\n",
    "    chi2_stat, p, dof, expected = scipy.stats.chi2_contingency(ct_table)\n",
    "    row.append(i)\n",
    "    row.append(chi2_stat)\n",
    "    row.append(p)\n",
    "    row.append(dof)\n",
    "    chisquare_best_list.append(row)\n",
    "    \n",
    "a = np.array(chisquare_best_list)\n",
    "df = pd.DataFrame(a[:,1:], index = a[:,0], columns = ['chi2 test', 'p_value', 'degrees of freedom'])\n",
    "df"
   ]
  },
  {
   "cell_type": "code",
   "execution_count": null,
   "id": "d05d46b3",
   "metadata": {},
   "outputs": [],
   "source": [
    "chisquare_second_list = []\n",
    "\n",
    "for i in categorical_vars:\n",
    "    row = []\n",
    "    ct_table = pd.crosstab(mdata.obs[i], mdata.obs[SNF_label_second_colname])\n",
    "    chi2_stat, p, dof, expected = scipy.stats.chi2_contingency(ct_table)\n",
    "    row.append(i)\n",
    "    row.append(chi2_stat)\n",
    "    row.append(p)\n",
    "    row.append(dof)\n",
    "    chisquare_second_list.append(row)\n",
    "    \n",
    "a = np.array(chisquare_second_list)\n",
    "df = pd.DataFrame(a[:,1:], index = a[:,0], columns = ['chi2 test', 'p_value', 'degrees of freedom'])\n",
    "df"
   ]
  },
  {
   "cell_type": "markdown",
   "id": "cb3257bb",
   "metadata": {},
   "source": [
    "# Compare SNF clusters with batches"
   ]
  },
  {
   "cell_type": "code",
   "execution_count": null,
   "id": "97336723",
   "metadata": {},
   "outputs": [],
   "source": [
    "# Add cluster labels from SNF\n",
    "for omics in data_type_names_list:\n",
    "    mdata[omics].obs[SNF_label_best_colname] = labels\n",
    "    mdata[omics].obs[SNF_label_second_colname] = labels_second\n",
    "\n",
    "    for i in mdata[omics].obs.index:\n",
    "        mdata[omics].obs.at[i, SNF_label_best_colname] =  \"SNF_\"+ str(mdata[omics].obs.at[i, SNF_label_best_colname])\n",
    "        mdata[omics].obs.at[i, SNF_label_second_colname] =  \"SNF_\"+ str(mdata[omics].obs.at[i, SNF_label_second_colname])"
   ]
  },
  {
   "cell_type": "code",
   "execution_count": null,
   "id": "80019155",
   "metadata": {},
   "outputs": [],
   "source": [
    "# Best clustering\n",
    "\n",
    "batch_synonyms = ['Batch', 'Group', 'Parameter Value[date]', 'RT']\n",
    "\n",
    "for omics in data_type_names_list:\n",
    "    for syn in batch_synonyms:\n",
    "        if syn in mdata[omics].obs.columns: \n",
    "            make_mosaic(mdata[omics].obs, syn, SNF_label_best_colname, omics)    "
   ]
  },
  {
   "cell_type": "code",
   "execution_count": null,
   "id": "fa3a7816",
   "metadata": {},
   "outputs": [],
   "source": [
    "# Second best clustering\n",
    "\n",
    "for omics in data_type_names_list:\n",
    "    for syn in batch_synonyms:\n",
    "        if syn in mdata[omics].obs.columns: \n",
    "            make_mosaic(mdata[omics].obs, syn, SNF_label_second_colname, omics)   "
   ]
  },
  {
   "cell_type": "markdown",
   "id": "b565955c",
   "metadata": {},
   "source": [
    "## Chisquare tests"
   ]
  },
  {
   "cell_type": "code",
   "execution_count": null,
   "id": "ca533aee",
   "metadata": {},
   "outputs": [],
   "source": [
    "chisquare_best_list = []\n",
    "\n",
    "for omics in data_type_names_list:\n",
    "    row = []\n",
    "    for syn in batch_synonyms:\n",
    "        if syn in mdata[omics].obs.columns: \n",
    "            ct_table = pd.crosstab(mdata[omics].obs[syn], mdata[omics].obs[SNF_label_best_colname])\n",
    "            chi2_stat, p, dof, expected = scipy.stats.chi2_contingency(ct_table)\n",
    "            row.append(omics)\n",
    "            row.append(chi2_stat)\n",
    "            row.append(p)\n",
    "            row.append(dof)\n",
    "            chisquare_best_list.append(row)\n",
    "    \n",
    "a = np.array(chisquare_best_list)\n",
    "df = pd.DataFrame(a[:,1:], index = a[:,0], columns = ['chi2 test', 'p_value', 'degrees of freedom'])\n",
    "df"
   ]
  },
  {
   "cell_type": "code",
   "execution_count": null,
   "id": "86c141c6",
   "metadata": {},
   "outputs": [],
   "source": [
    "chisquare_second_list = []\n",
    "\n",
    "for omics in data_type_names_list:\n",
    "    row = []\n",
    "    for syn in batch_synonyms:\n",
    "        if syn in mdata[omics].obs.columns: \n",
    "            ct_table = pd.crosstab(mdata[omics].obs[syn], mdata[omics].obs[SNF_label_second_colname])\n",
    "            chi2_stat, p, dof, expected = scipy.stats.chi2_contingency(ct_table)\n",
    "            row.append(omics)\n",
    "            row.append(chi2_stat)\n",
    "            row.append(p)\n",
    "            row.append(dof)\n",
    "            chisquare_second_list.append(row)\n",
    "    \n",
    "a = np.array(chisquare_second_list)\n",
    "df = pd.DataFrame(a[:,1:], index = a[:,0], columns = ['chi2 test', 'p_value', 'degrees of freedom'])\n",
    "df"
   ]
  },
  {
   "cell_type": "markdown",
   "id": "79711d44",
   "metadata": {},
   "source": [
    "## Functions used for statistics "
   ]
  },
  {
   "cell_type": "code",
   "execution_count": null,
   "id": "081e3912",
   "metadata": {},
   "outputs": [],
   "source": [
    "def make_significant_bold(x):\n",
    "    bold = 'bold' if x < 0.05 else ''\n",
    "    return 'font-weight: %s' % bold\n",
    "\n",
    "\n",
    "def make_pvalue_table(p_value_list):\n",
    "    a = np.array(p_value_list)\n",
    "    df = pd.DataFrame(a[:,1:], index = a[:,0], columns = ['test statistic', 'p-value'])\n",
    "    df = df.dropna()\n",
    "    df = df.loc[df[\"p-value\"] != \"nan\"]\n",
    "    df['test statistic'] = pd.to_numeric(df['test statistic'])\n",
    "    df['p-value'] = pd.to_numeric(df['p-value'])\n",
    "    p_values = np.asarray(df['p-value'].values.tolist())\n",
    "    corrected_p_values = statsmodels.stats.multitest.fdrcorrection(p_values)\n",
    "    df['FDR corrected p-value'] = corrected_p_values[1].tolist()\n",
    "    df.style.applymap(make_significant_bold)\n",
    "    return(df)\n",
    "\n",
    "\n",
    "def perform_statistical_testing(n_clusters, df, colname):\n",
    "\n",
    "    snf_groups = []\n",
    "\n",
    "    for i in range(n_clusters):\n",
    "        snf_label = 'SNF_' + str(i)\n",
    "        group = df[df[\"SNF_label_\" + str(n_clusters)] == snf_label]\n",
    "        snf_groups.append(group[colname])\n",
    "\n",
    "\n",
    "    if len(snf_groups) > 2:\n",
    "        for i in snf_groups:\n",
    "            p_values = stats.kruskal(*i)\n",
    "    \n",
    "    else:\n",
    "        p_values = stats.mannwhitneyu(snf_groups[0], snf_groups[1])\n",
    "        \n",
    "    return(p_values)"
   ]
  },
  {
   "cell_type": "markdown",
   "id": "e59915c5",
   "metadata": {},
   "source": [
    "## Compare clusters on numerical pheno variables"
   ]
  },
  {
   "cell_type": "code",
   "execution_count": null,
   "id": "7041601d",
   "metadata": {},
   "outputs": [],
   "source": [
    "# Perform shapiro test for normality\n",
    "shapiro = stats.shapiro(mdata.obs[\"BMI\"])\n",
    "\n",
    "if float(list(shapiro)[1]) < 0.05:\n",
    "    print('Shapiro test shows that BMI values are not normally distributed')\n",
    "    print('p-value', list(shapiro)[1])\n",
    "    \n",
    "else:\n",
    "    print('Shapiro test shows that BMI values are normally distributed')\n",
    "    print('p-value', list(shapiro)[1])"
   ]
  },
  {
   "cell_type": "code",
   "execution_count": null,
   "id": "78545da6",
   "metadata": {},
   "outputs": [],
   "source": [
    "# Drop sample for statiscial testing\n",
    "# TODO: this sample has Nan values for blood cell counts\n",
    "\n",
    "mdata_without_NA =  mdata.obs\n",
    "\n",
    "if 'CZC3066' in mdata.obs.index:\n",
    "    mdata_without_NA = mdata_without_NA.drop('CZC3066')"
   ]
  },
  {
   "cell_type": "code",
   "execution_count": null,
   "id": "e087f3bc",
   "metadata": {},
   "outputs": [],
   "source": [
    "phenotype_columns = [\"Age\", \"BMI\", \"Leukocytes\", \"Erythrocytes\", \"Hemoglobin\", \"Hematocrit\", \"Platelets\", \"MCV\"]\n",
    "p_value_list = []\n",
    "\n",
    "for i in phenotype_columns: #TODO: exclude Nan values\n",
    "    row = []\n",
    "    statistics = stats.shapiro(mdata_without_NA[i])\n",
    "    row.append(i)\n",
    "    row.append(list(statistics)[0])\n",
    "    row.append(list(statistics)[1])\n",
    "    p_value_list.append(row)\n",
    "    \n",
    "df = make_pvalue_table(p_value_list)\n",
    "df.style.applymap(make_significant_bold)\n",
    "df"
   ]
  },
  {
   "cell_type": "code",
   "execution_count": null,
   "id": "c38ffe7d",
   "metadata": {
    "scrolled": true
   },
   "outputs": [],
   "source": [
    "p_value_list = []\n",
    "\n",
    "for i in phenotype_columns: #TODO: exclude Nan values\n",
    "    row = []\n",
    "    best_stat = perform_statistical_testing(best, mdata_without_NA, i)\n",
    "    row.append(i + \"_vs_best_clustering\")\n",
    "    row.append(list(best_stat)[0])\n",
    "    row.append(list(best_stat)[1])\n",
    "    p_value_list.append(row)\n",
    "    \n",
    "    row2 = []\n",
    "    row2.append(i + \"_vs_second_clustering\")\n",
    "    second_stat = perform_statistical_testing(second, mdata_without_NA, i)\n",
    "    row2.append(list(second_stat)[0])\n",
    "    row2.append(list(second_stat)[1])\n",
    "    p_value_list.append(row2)\n",
    " \n",
    "\n",
    "df = make_pvalue_table(p_value_list)\n",
    "df.style.applymap(make_significant_bold)\n",
    "df"
   ]
  },
  {
   "cell_type": "markdown",
   "id": "5c9c1ca4",
   "metadata": {},
   "source": [
    "## Test sample order with ranked Spearman test"
   ]
  },
  {
   "cell_type": "markdown",
   "id": "341890df",
   "metadata": {},
   "source": [
    "### Batches vs SNF label"
   ]
  },
  {
   "cell_type": "code",
   "execution_count": null,
   "id": "dab0cd57",
   "metadata": {},
   "outputs": [],
   "source": [
    "p_value_list = []\n",
    "\n",
    "\n",
    "batch_synonyms = ['Batch', 'Group', 'Parameter Value[date]', 'RT']\n",
    "\n",
    "for omics in data_type_names_list:\n",
    "    for syn in batch_synonyms:\n",
    "        if syn in mdata[omics].obs.columns:\n",
    "            mdata_input = mdata[omics].obs\n",
    "            if 'CZC3066' in mdata_input.index:\n",
    "                mdata_input = mdata_input.drop('CZC3066')\n",
    "            row = []\n",
    "            best_stat = scipy.stats.spearmanr(mdata_input[syn], mdata_input[SNF_label_best_colname])\n",
    "            row.append(omics + \"_vs_best_clustering\")\n",
    "            row.append(list(best_stat)[0])\n",
    "            row.append(list(best_stat)[1])\n",
    "            p_value_list.append(row)\n",
    "\n",
    "            row2 = []\n",
    "            row2.append(omics + \"_vs_second_clustering\")\n",
    "            second_stat = scipy.stats.spearmanr(mdata_input[syn], mdata_input[SNF_label_second_colname])\n",
    "            row2.append(list(second_stat)[0])\n",
    "            row2.append(list(second_stat)[1])\n",
    "            p_value_list.append(row2)\n",
    "            \n",
    "df = make_pvalue_table(p_value_list)\n",
    "df.style.applymap(make_significant_bold)\n",
    "df"
   ]
  },
  {
   "cell_type": "markdown",
   "id": "28b30243",
   "metadata": {},
   "source": [
    "### Plot how samples are distributed over the differerent batches in Targeted Metabolomics "
   ]
  },
  {
   "cell_type": "code",
   "execution_count": null,
   "id": "16e86dd5",
   "metadata": {},
   "outputs": [],
   "source": [
    "column1 = mdata['acylcarnitines'].obs['Parameter Value[date]']\n",
    "column2 = mdata['aminoacids'].obs['Parameter Value[date]']\n",
    "column3 = mdata['fattyacids'].obs['Parameter Value[date]']\n",
    "new_df = pd.concat([column1, column2, column3], axis=1, keys=['acyl', 'amino', 'fattyacids'])\n",
    "\n",
    "make_mosaic(new_df, 'amino', 'acyl', mosaic_title='Batches')\n",
    "make_mosaic(new_df, 'fattyacids', 'amino', mosaic_title='Batches')\n",
    "make_mosaic(new_df, 'acyl', 'fattyacids', mosaic_title='Batches')"
   ]
  },
  {
   "cell_type": "markdown",
   "id": "053f7836",
   "metadata": {},
   "source": [
    "### Pheno covariates vs SNF label"
   ]
  },
  {
   "cell_type": "code",
   "execution_count": null,
   "id": "c0464695",
   "metadata": {},
   "outputs": [],
   "source": [
    "p_value_list = []\n",
    "\n",
    "for i in phenotype_columns: #TODO: exclude Nan values\n",
    "    row = []\n",
    "    best_stat = scipy.stats.spearmanr(mdata_without_NA[i], mdata_without_NA[SNF_label_best_colname])\n",
    "    row.append(i + \"_vs_best_clustering\")\n",
    "    row.append(list(best_stat)[0])\n",
    "    row.append(list(best_stat)[1])\n",
    "    p_value_list.append(row)\n",
    "    \n",
    "    row2 = []\n",
    "    row2.append(i + \"_vs_second_clustering\")\n",
    "    second_stat = scipy.stats.spearmanr(mdata_without_NA[i], mdata_without_NA[SNF_label_second_colname])\n",
    "    row2.append(list(second_stat)[0])\n",
    "    row2.append(list(second_stat)[1])\n",
    "    p_value_list.append(row2)\n",
    "    \n",
    "\n",
    "df = make_pvalue_table(p_value_list)\n",
    "df.style.applymap(make_significant_bold)\n",
    "df"
   ]
  }
 ],
 "metadata": {
  "kernelspec": {
   "display_name": "Python 3 (ipykernel)",
   "language": "python",
   "name": "python3"
  },
  "language_info": {
   "codemirror_mode": {
    "name": "ipython",
    "version": 3
   },
   "file_extension": ".py",
   "mimetype": "text/x-python",
   "name": "python",
   "nbconvert_exporter": "python",
   "pygments_lexer": "ipython3",
   "version": "3.9.5"
  }
 },
 "nbformat": 4,
 "nbformat_minor": 5
}
